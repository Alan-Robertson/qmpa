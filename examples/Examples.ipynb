{
 "cells": [
  {
   "cell_type": "markdown",
   "id": "812baaca",
   "metadata": {},
   "source": [
    "# Examples #\n",
    "Some examples of using QMPA (quantum multi-precision arithmetic). "
   ]
  },
  {
   "cell_type": "code",
   "execution_count": null,
   "id": "dafe7fee",
   "metadata": {},
   "outputs": [],
   "source": [
    "from qmpa.circuit import Circuit"
   ]
  },
  {
   "cell_type": "markdown",
   "id": "0fc8030d",
   "metadata": {},
   "source": [
    "Building and running a circuit"
   ]
  },
  {
   "cell_type": "code",
   "execution_count": null,
   "id": "eebeabfb",
   "metadata": {},
   "outputs": [],
   "source": [
    "c = Circuit()\n",
    "\n",
    "# First argument is the number of qubits\n",
    "# Second argument is the \"name\" of the register\n",
    "# Third argument is the initial value\n",
    "reg_a = c.register(5, 'A', 19)\n",
    "reg_b = c.register(3, 'B', 3)\n",
    "reg_r, reg_q = c.divide(reg_a, reg_b)"
   ]
  },
  {
   "cell_type": "markdown",
   "id": "d1475d61",
   "metadata": {},
   "source": [
    "The function is not invoked until we attempt to readout the value of a register"
   ]
  },
  {
   "cell_type": "code",
   "execution_count": null,
   "id": "64f1ccdb",
   "metadata": {},
   "outputs": [],
   "source": [
    "print(f\"{c.readout(reg_a)} / {c.readout(reg_b)} = {c.readout(reg_q)} r {c.readout(reg_r)}\")"
   ]
  },
  {
   "cell_type": "markdown",
   "id": "8695a160",
   "metadata": {},
   "source": [
    "Get some gate counts "
   ]
  },
  {
   "cell_type": "code",
   "execution_count": null,
   "id": "d7058b97",
   "metadata": {},
   "outputs": [],
   "source": [
    "print(f\"Toffolis: {c.toffoli_count}\")\n",
    "print(f\"CNOTS: {c.cnot_count}\")"
   ]
  },
  {
   "cell_type": "markdown",
   "id": "5b29510e",
   "metadata": {},
   "source": [
    "Printing a circuit"
   ]
  },
  {
   "cell_type": "code",
   "execution_count": null,
   "id": "fa0f588a",
   "metadata": {},
   "outputs": [],
   "source": [
    "print(c.circuit_print())"
   ]
  },
  {
   "cell_type": "markdown",
   "id": "healthy-waters",
   "metadata": {},
   "source": [
    "## Tests"
   ]
  },
  {
   "cell_type": "markdown",
   "id": "preceding-tablet",
   "metadata": {},
   "source": [
    "### Adder tests"
   ]
  },
  {
   "cell_type": "code",
   "execution_count": null,
   "id": "70461521",
   "metadata": {},
   "outputs": [],
   "source": [
    "import numpy as np\n",
    "n_qubits = 10\n",
    "n_tests = 1000\n",
    "\n",
    "# Test with implicit carry\n",
    "for _ in range(n_tests):\n",
    "    x, y = np.random.randint(2 ** n_qubits, size=(2))\n",
    "\n",
    "    c = Circuit()\n",
    "    r_a = c.register(n_qubits, 'A', x)\n",
    "    r_b = c.register(n_qubits + 1, 'B', y)\n",
    "    c.add(r_a, r_b)\n",
    "\n",
    "    assert(x + y == c.readout(r_b)[0])\n",
    "\n",
    "    \n",
    "# Test with pre-alloced carry\n",
    "for _ in range(n_tests):\n",
    "    x, y = np.random.randint(2 ** n_qubits, size=(2))\n",
    "\n",
    "    c = Circuit()\n",
    "    reg_carry = c.register(1, 'carry')\n",
    "    r_a = c.register(n_qubits, 'A', x)\n",
    "    r_b = c.register(n_qubits + 1, 'B', y)\n",
    "    c.add(r_a, r_b, reg_carry=reg_carry)\n",
    "    c.free(reg_carry)\n",
    "    \n",
    "    assert(x + y == c.readout(r_b)[0])\n",
    "\n",
    "    \n",
    "# Test reverse add\n",
    "for _ in range(n_tests):\n",
    "    x, y = np.random.randint(2 ** n_qubits, size=(2))\n",
    "\n",
    "    c = Circuit()\n",
    "    reg_carry = c.register(1, 'carry')\n",
    "    r_a = c.register(n_qubits, 'A', x)\n",
    "    r_b = c.register(n_qubits + 1, 'B', y)\n",
    "    c.add(r_a, r_b)\n",
    "    c.reverse(c.add, r_a, r_b, reg_carry=reg_carry)\n",
    "    c.free(reg_carry)\n",
    "    \n",
    "    assert(y == c.readout(r_b)[0])\n"
   ]
  },
  {
   "cell_type": "code",
   "execution_count": null,
   "id": "b2c7b31c",
   "metadata": {},
   "outputs": [],
   "source": [
    "# Test with implicit carry\n",
    "for _ in range(3):\n",
    "    x, y = np.random.randint(2 ** n_qubits, size=(2))\n",
    "\n",
    "    c = Circuit()\n",
    "    reg_carry = c.register(1, 'carry')\n",
    "    r_a = c.register(n_qubits, 'A', x)\n",
    "    r_b = c.register(n_qubits + 1, 'B', y)\n",
    "    c.add(r_a, r_b, reg_carry=reg_carry)\n",
    "    c.reverse(c.add, r_a, r_b, reg_carry=reg_carry)\n",
    "    c.free(reg_carry)\n",
    "    \n",
    "    assert(y == c.readout(r_b)[0])"
   ]
  },
  {
   "cell_type": "code",
   "execution_count": null,
   "id": "regulation-launch",
   "metadata": {},
   "outputs": [],
   "source": [
    "import numpy as np\n",
    "n_qubits = 5\n",
    "n_tests = 10\n",
    "\n",
    "# Test with implicit carry\n",
    "for _ in range(n_tests):\n",
    "    x, y = np.random.randint(2 ** n_qubits, size=(2))\n",
    "\n",
    "    c = Circuit()\n",
    "    r_a = c.register(n_qubits, 'A', x)\n",
    "    r_b = c.register(n_qubits + 1, 'B', y)\n",
    "    c.add(r_a, r_b)\n",
    "    assert(x + y == c.readout(r_b)[0])\n",
    "\n",
    "    \n",
    "# Test with pre-alloced carry\n",
    "for _ in range(n_tests):\n",
    "    x, y = np.random.randint(2 ** n_qubits, size=(2))\n",
    "\n",
    "    c = Circuit()\n",
    "    reg_carry = c.register(1, 'carry')\n",
    "    r_a = c.register(n_qubits, 'A', x)\n",
    "    r_b = c.register(n_qubits + 1, 'B', y)\n",
    "    c.add(r_a, r_b, reg_carry=reg_carry)\n",
    "    c.free(reg_carry)\n",
    "    \n",
    "    assert(x + y == c.readout(r_b)[0])\n",
    "\n",
    "    \n",
    "# Test reverse add\n",
    "for _ in range(n_tests):\n",
    "    x, y = np.random.randint(2 ** n_qubits, size=(2))\n",
    "\n",
    "    c = Circuit()\n",
    "    reg_carry = c.register(1, 'carry')\n",
    "    r_a = c.register(n_qubits, 'A', x)\n",
    "    r_b = c.register(n_qubits + 1, 'B', y)\n",
    "    c.add(r_a, r_b, reg_carry=reg_carry)\n",
    "    c.reverse(c.add, r_a, r_b, reg_carry=reg_carry)\n",
    "    c.free(reg_carry)\n",
    "    \n",
    "    assert(y == c.readout(r_b)[0])\n"
   ]
  },
  {
   "cell_type": "markdown",
   "id": "intimate-blend",
   "metadata": {},
   "source": [
    "## Subtraction Tests"
   ]
  },
  {
   "cell_type": "code",
   "execution_count": null,
   "id": "confirmed-gauge",
   "metadata": {},
   "outputs": [],
   "source": [
    "import numpy as np\n",
    "n_qubits = 5\n",
    "n_tests = 1000\n",
    "\n",
    "# Test with implicit carry\n",
    "for _ in range(n_tests):\n",
    "    x, y = np.random.randint(2 ** n_qubits, size=(2))\n",
    "\n",
    "    c = Circuit()\n",
    "    r_a = c.register(n_qubits, 'A', x)\n",
    "    r_b = c.register(n_qubits + 1, 'B', y)\n",
    "    c.subtract(r_a, r_b)\n",
    "\n",
    "    assert((y - x) % (2 ** (r_b.size)) == c.readout(r_b)[0])\n",
    "\n",
    "    \n",
    "# Test with pre-alloced carry\n",
    "for _ in range(n_tests):\n",
    "    x, y = np.random.randint(2 ** n_qubits, size=(2))\n",
    "\n",
    "    c = Circuit()\n",
    "    reg_carry = c.register(1, 'carry')\n",
    "    r_a = c.register(n_qubits, 'A', x)\n",
    "    r_b = c.register(n_qubits + 1, 'B', y)\n",
    "    c.subtract(r_a, r_b)\n",
    "    c.free(reg_carry)\n",
    "\n",
    "    assert((y - x) % (2 ** (r_b.size)) == c.readout(r_b)[0])\n",
    "    \n",
    "# Test Reversible Subtract\n",
    "for _ in range(n_tests):\n",
    "    x, y = np.random.randint(2 ** n_qubits, size=(2))\n",
    "\n",
    "    c = Circuit()\n",
    "    reg_carry = c.register(1, 'carry')\n",
    "    r_a = c.register(n_qubits, 'A', x)\n",
    "    r_b = c.register(n_qubits + 1, 'B', y)\n",
    "    c.subtract(r_a, r_b)\n",
    "    c.reverse(c.subtract, r_a, r_b, reg_carry=reg_carry)\n",
    "    c.free(reg_carry)\n",
    "\n",
    "    assert(y == c.readout(r_b)[0])"
   ]
  },
  {
   "cell_type": "markdown",
   "id": "running-nowhere",
   "metadata": {},
   "source": [
    "### Multiply Tests"
   ]
  },
  {
   "cell_type": "code",
   "execution_count": null,
   "id": "absolute-arnold",
   "metadata": {},
   "outputs": [],
   "source": [
    "import numpy as np\n",
    "n_tests = 1000\n",
    "n_qubits = 5\n",
    "\n",
    "# Test multiplication\n",
    "for i in range(n_tests):\n",
    "    x, y = np.random.randint(2 ** n_qubits, size=(2))\n",
    "\n",
    "    t = i % 2\n",
    "    \n",
    "    c = Circuit()\n",
    "    r_a = c.register(n_qubits, 'A', x)\n",
    "    r_b = c.register(n_qubits, 'B', y)\n",
    "    r_d = c.multiply(r_a, r_b)\n",
    "\n",
    "    assert(x * y == c.readout(r_d)[0])\n",
    "    \n",
    "# Test Reversible multiplication\n",
    "for i in range(n_tests):\n",
    "    x, y = np.random.randint(2 ** n_qubits, size=(2))\n",
    "\n",
    "    t = i % 2\n",
    "    \n",
    "    c = Circuit()\n",
    "    r_a = c.register(n_qubits, 'A', x)\n",
    "    r_b = c.register(n_qubits, 'B', y)\n",
    "    r_d = c.multiply(r_a, r_b)\n",
    "    try:\n",
    "        r_d = c.reverse(c.multiply, r_a, r_b, target_reg=r_d)\n",
    "        assert(0 == c.readout(r_d)[0])\n",
    "    except:\n",
    "        pass\n",
    "        "
   ]
  },
  {
   "cell_type": "markdown",
   "id": "63c7fc03",
   "metadata": {},
   "source": [
    "## Divsion Tests"
   ]
  },
  {
   "cell_type": "code",
   "execution_count": null,
   "id": "2922d0dc",
   "metadata": {},
   "outputs": [],
   "source": [
    "n_tests = 1000\n",
    "n_qubits = 5\n",
    "\n",
    "for i in range(n_tests):\n",
    "\n",
    "    # Test divsion\n",
    "    for i in range(n_tests):\n",
    "        x, y = np.random.randint(2 ** n_qubits, size=(2))\n",
    "        obj = [x + 1, y + 1] # Avoiding div zero\n",
    "        obj.sort(reverse=True)\n",
    "        x, y = obj\n",
    "    c = Circuit()\n",
    "\n",
    "    x_len = int(np.floor(np.log2(x)) + 1)\n",
    "    y_len = int(np.floor(np.log2(y)) + 1)\n",
    "\n",
    "    reg_a = c.register(x_len, 'A', x)\n",
    "    reg_b = c.register(y_len, 'B', y)\n",
    "    reg_r, reg_q = c.divide(reg_a, reg_b)\n",
    "\n",
    "    assert (c.readout(reg_r)[0] + c.readout(reg_q)[0] * y == x)"
   ]
  }
 ],
 "metadata": {
  "kernelspec": {
   "display_name": "Python 3 (ipykernel)",
   "language": "python",
   "name": "python3"
  },
  "language_info": {
   "codemirror_mode": {
    "name": "ipython",
    "version": 3
   },
   "file_extension": ".py",
   "mimetype": "text/x-python",
   "name": "python",
   "nbconvert_exporter": "python",
   "pygments_lexer": "ipython3",
   "version": "3.8.16"
  }
 },
 "nbformat": 4,
 "nbformat_minor": 5
}
